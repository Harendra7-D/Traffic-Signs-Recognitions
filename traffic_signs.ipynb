{
 "cells": [
  {
   "cell_type": "code",
   "execution_count": 1,
   "metadata": {},
   "outputs": [],
   "source": [
    "import numpy as np\n",
    "import pandas as pd\n",
    "import matplotlib.pyplot as plt\n",
    "import tensorflow as tf\n",
    "from PIL import Image\n",
    "import os\n",
    "from sklearn.model_selection import train_test_split\n",
    "from keras.utils import to_categorical\n",
    "from keras.models import Sequential\n",
    "from keras.layers import Conv2D, MaxPool2D, Dense, Flatten, Dropout"
   ]
  },
  {
   "cell_type": "code",
   "execution_count": 2,
   "metadata": {},
   "outputs": [],
   "source": [
    "data=[]\n",
    "labels=[]\n",
    "classes=43\n",
    "cur_path=os.getcwd()"
   ]
  },
  {
   "cell_type": "code",
   "execution_count": 3,
   "metadata": {},
   "outputs": [],
   "source": [
    "for i in range(classes):\n",
    "    path=os.path.join(cur_path,'train',str(i))\n",
    "    images=os.listdir(path)\n",
    "    \n",
    "    for a in images:\n",
    "        try:\n",
    "            image=Image.open(path+'\\\\'+a)\n",
    "            image=image.resize((30,30))\n",
    "            image=np.array(image)\n",
    "            data.append(image)\n",
    "            labels.append(i)\n",
    "        except:\n",
    "            print('Error loading image')\n",
    "data=np.array(data)\n",
    "labels=np.array(labels)"
   ]
  },
  {
   "cell_type": "code",
   "execution_count": 4,
   "metadata": {},
   "outputs": [
    {
     "name": "stdout",
     "output_type": "stream",
     "text": [
      "(39209, 30, 30, 3) (39209,)\n",
      "(27446, 30, 30, 3) (11763, 30, 30, 3) (27446,) (11763,)\n"
     ]
    }
   ],
   "source": [
    "print(data.shape,labels.shape)\n",
    "X_train,X_test,y_train,y_test=train_test_split(data,labels,test_size=0.3,random_state=101)\n",
    "\n",
    "print(X_train.shape,X_test.shape,y_train.shape,y_test.shape)\n",
    "\n",
    "y_train=to_categorical(y_train,43)\n",
    "y_test=to_categorical(y_test,43)"
   ]
  },
  {
   "cell_type": "code",
   "execution_count": 5,
   "metadata": {},
   "outputs": [],
   "source": [
    "model=Sequential()\n",
    "model.add(Conv2D(filters=32,kernel_size=(5,5),activation='relu',input_shape=X_train.shape[1:]))\n",
    "model.add(Conv2D(filters=32,kernel_size=(5,5),activation='relu'))\n",
    "model.add(MaxPool2D(pool_size=(2,2)))\n",
    "model.add(Dropout(rate=0.25))\n",
    "model.add(Conv2D(filters=64,kernel_size=(3,3),activation='relu'))\n",
    "model.add(Conv2D(filters=64,kernel_size=(3,3),activation='relu'))\n",
    "model.add(MaxPool2D(pool_size=(2,2)))\n",
    "model.add(Dropout(rate=0.25))\n",
    "model.add(Flatten())\n",
    "model.add(Dense(256,activation='relu'))\n",
    "model.add(Dropout(rate=0.5))\n",
    "model.add(Dense(43,activation='softmax'))\n",
    "#compilation of the model\n",
    "model.compile(loss='categorical_crossentropy',optimizer='adam',metrics=['accuracy'])"
   ]
  },
  {
   "cell_type": "code",
   "execution_count": 6,
   "metadata": {
    "scrolled": true
   },
   "outputs": [
    {
     "name": "stdout",
     "output_type": "stream",
     "text": [
      "Epoch 1/15\n",
      "429/429 [==============================] - 148s 335ms/step - loss: 5.1387 - accuracy: 0.2505 - val_loss: 0.4036 - val_accuracy: 0.9040\n",
      "Epoch 2/15\n",
      "429/429 [==============================] - 123s 286ms/step - loss: 0.7050 - accuracy: 0.8040 - val_loss: 0.1451 - val_accuracy: 0.9680\n",
      "Epoch 3/15\n",
      "429/429 [==============================] - 119s 277ms/step - loss: 0.3759 - accuracy: 0.8971 - val_loss: 0.1135 - val_accuracy: 0.9750\n",
      "Epoch 4/15\n",
      "429/429 [==============================] - 140s 327ms/step - loss: 0.2498 - accuracy: 0.9312 - val_loss: 0.0749 - val_accuracy: 0.9829\n",
      "Epoch 5/15\n",
      "429/429 [==============================] - 155s 360ms/step - loss: 0.1991 - accuracy: 0.9454 - val_loss: 0.0596 - val_accuracy: 0.9872\n",
      "Epoch 6/15\n",
      "429/429 [==============================] - 157s 366ms/step - loss: 0.1994 - accuracy: 0.9469 - val_loss: 0.0532 - val_accuracy: 0.9892\n",
      "Epoch 7/15\n",
      "429/429 [==============================] - 155s 361ms/step - loss: 0.1456 - accuracy: 0.9609 - val_loss: 0.0438 - val_accuracy: 0.9896\n",
      "Epoch 8/15\n",
      "429/429 [==============================] - 139s 325ms/step - loss: 0.1502 - accuracy: 0.9581 - val_loss: 0.0463 - val_accuracy: 0.9893\n",
      "Epoch 9/15\n",
      "429/429 [==============================] - 141s 329ms/step - loss: 0.1486 - accuracy: 0.9588 - val_loss: 0.0425 - val_accuracy: 0.9916\n",
      "Epoch 10/15\n",
      "429/429 [==============================] - 143s 333ms/step - loss: 0.1873 - accuracy: 0.9520 - val_loss: 0.0375 - val_accuracy: 0.9917\n",
      "Epoch 11/15\n",
      "429/429 [==============================] - 117s 273ms/step - loss: 0.1209 - accuracy: 0.9677 - val_loss: 0.0339 - val_accuracy: 0.9930\n",
      "Epoch 12/15\n",
      "429/429 [==============================] - 128s 298ms/step - loss: 0.1014 - accuracy: 0.9715 - val_loss: 0.0501 - val_accuracy: 0.9896\n",
      "Epoch 13/15\n",
      "429/429 [==============================] - 125s 292ms/step - loss: 0.1016 - accuracy: 0.9727 - val_loss: 0.0562 - val_accuracy: 0.9866\n",
      "Epoch 14/15\n",
      "429/429 [==============================] - 131s 306ms/step - loss: 0.1265 - accuracy: 0.9689 - val_loss: 0.0343 - val_accuracy: 0.9908\n",
      "Epoch 15/15\n",
      "429/429 [==============================] - 138s 322ms/step - loss: 0.1273 - accuracy: 0.9685 - val_loss: 0.0880 - val_accuracy: 0.9778\n"
     ]
    }
   ],
   "source": [
    "epochs=15\n",
    "history=model.fit(X_train,y_train,batch_size=64,epochs=epochs,validation_data=(X_test,y_test))"
   ]
  },
  {
   "cell_type": "code",
   "execution_count": 7,
   "metadata": {},
   "outputs": [
    {
     "data": {
      "text/plain": [
       "<matplotlib.legend.Legend at 0x193b4fc0d90>"
      ]
     },
     "execution_count": 7,
     "metadata": {},
     "output_type": "execute_result"
    },
    {
     "data": {
      "image/png": "[encoded data removed]",
      "text/plain": [
       "<Figure size 432x288 with 1 Axes>"
      ]
     },
     "metadata": {
      "needs_background": "light"
     },
     "output_type": "display_data"
    },
    {
     "data": {
      "image/png": "[encoded data removed]",
      "text/plain": [
       "<Figure size 432x288 with 1 Axes>"
      ]
     },
     "metadata": {
      "needs_background": "light"
     },
     "output_type": "display_data"
    }
   ],
   "source": [
    "plt.figure(0)\n",
    "plt.plot(history.history['accuracy'],label='training accuracy')\n",
    "plt.plot(history.history['val_accuracy'],label='val accuracy')\n",
    "plt.title('Accuracy')\n",
    "plt.xlabel('epochs')\n",
    "plt.ylabel('accuracy')\n",
    "plt.legend()\n",
    "\n",
    "plt.figure(1)\n",
    "plt.plot(history.history['loss'],label='training loss')\n",
    "plt.plot(history.history['val_loss'],label='val loss')\n",
    "plt.title('Loss')\n",
    "plt.xlabel('epochs')\n",
    "plt.ylabel('loss')\n",
    "plt.legend()"
   ]
  },
  {
   "cell_type": "code",
   "execution_count": 8,
   "metadata": {},
   "outputs": [
    {
     "name": "stderr",
     "output_type": "stream",
     "text": [
      "C:\\Anaconda\\lib\\site-packages\\tensorflow\\python\\keras\\engine\\sequential.py:450: UserWarning: `model.predict_classes()` is deprecated and will be removed after 2021-01-01. Please use instead:* `np.argmax(model.predict(x), axis=-1)`,   if your model does multi-class classification   (e.g. if it uses a `softmax` last-layer activation).* `(model.predict(x) > 0.5).astype(\"int32\")`,   if your model does binary classification   (e.g. if it uses a `sigmoid` last-layer activation).\n",
      "  warnings.warn('`model.predict_classes()` is deprecated and '\n"
     ]
    },
    {
     "name": "stdout",
     "output_type": "stream",
     "text": [
      "0.9534441805225653\n"
     ]
    }
   ],
   "source": [
    "#testing accuracy on test dataset\n",
    "from sklearn.metrics import accuracy_score\n",
    "y_test=pd.read_csv('Test.csv')\n",
    "labels=y_test['ClassId'].values\n",
    "imgs=y_test['Path'].values\n",
    "\n",
    "data=[]\n",
    "\n",
    "for img in imgs:\n",
    "    image=Image.open(img)\n",
    "    image=image.resize((30,30))\n",
    "    data.append(np.array(image))\n",
    "    \n",
    "X_test=np.array(data)\n",
    "\n",
    "pred=model.predict_classes(X_test)\n",
    "#Accuracy with the test data\n",
    "\n",
    "from sklearn.metrics import accuracy_score\n",
    "print(accuracy_score(labels,pred))"
   ]
  },
  {
   "cell_type": "code",
   "execution_count": 9,
   "metadata": {},
   "outputs": [],
   "source": [
    "model.save('traffic_classifier.h5')"
   ]
  },
  {
   "cell_type": "code",
   "execution_count": 12,
   "metadata": {},
   "outputs": [],
   "source": [
    "import tkinter as tk\n",
    "from tkinter import filedialog\n",
    "from tkinter import *\n",
    "from PIL import ImageTk, Image\n",
    "from keras.models import load_model\n",
    "model=load_model('traffic_classifier.h5')\n",
    "import numpy"
   ]
  },
  {
   "cell_type": "code",
   "execution_count": 15,
   "metadata": {},
   "outputs": [],
   "source": [
    "classes={ 1:'Speed limit (20km/h)',\n",
    "            2:'Speed limit (30km/h)', \n",
    "            3:'Speed limit (50km/h)', \n",
    "            4:'Speed limit (60km/h)', \n",
    "            5:'Speed limit (70km/h)', \n",
    "            6:'Speed limit (80km/h)', \n",
    "            7:'End of speed limit (80km/h)', \n",
    "            8:'Speed limit (100km/h)', \n",
    "            9:'Speed limit (120km/h)', \n",
    "            10:'No passing', \n",
    "            11:'No passing veh over 3.5 tons', \n",
    "            12:'Right-of-way at intersection', \n",
    "            13:'Priority road', \n",
    "            14:'Yield', \n",
    "            15:'Stop', \n",
    "            16:'No vehicles', \n",
    "            17:'Veh > 3.5 tons prohibited', \n",
    "            18:'No entry', \n",
    "            19:'General caution', \n",
    "            20:'Dangerous curve left', \n",
    "            21:'Dangerous curve right', \n",
    "            22:'Double curve', \n",
    "            23:'Bumpy road', \n",
    "            24:'Slippery road', \n",
    "            25:'Road narrows on the right', \n",
    "            26:'Road work', \n",
    "            27:'Traffic signals', \n",
    "            28:'Pedestrians', \n",
    "            29:'Children crossing', \n",
    "            30:'Bicycles crossing', \n",
    "            31:'Beware of ice/snow',\n",
    "            32:'Wild animals crossing', \n",
    "            33:'End speed + passing limits', \n",
    "            34:'Turn right ahead', \n",
    "            35:'Turn left ahead', \n",
    "            36:'Ahead only', \n",
    "            37:'Go straight or right', \n",
    "            38:'Go straight or left', \n",
    "            39:'Keep right', \n",
    "            40:'Keep left', \n",
    "            41:'Roundabout mandatory', \n",
    "            42:'End of no passing', \n",
    "            43:'End no passing veh > 3.5 tons' }\n",
    "#initialize Gui\n",
    "top=tk.Tk()\n",
    "top.geometry('800x600')\n",
    "top.title('Traffic Sign classification')\n",
    "top.configure(background='#00ffff')\n",
    "\n",
    "label=Label(top,background='#CDCDCD',font=('arial',15,'bold'))\n",
    "sign_image=Label(top)\n",
    "\n",
    "def classify(file_path):\n",
    "    global label_packedd\n",
    "    image=Image.open(file_path)\n",
    "    image=image.resize((30,30))\n",
    "    image=numpy.expand_dims(image,axis=0)\n",
    "    image=numpy.array(image)\n",
    "    pred=model.predict_classes([image])[0]\n",
    "    sign=classes[pred+1]\n",
    "    print(sign)\n",
    "    label.configure(foreground='#011638',text=sign)\n",
    "    \n",
    "def show_classify_button(file_path):\n",
    "    classify_b=Button(top,text='Classify Image',command=lambda:classify(file_path),padx=10,pady=5)\n",
    "    classify_b.configure(background='#364156',foreground='white',font=('arial',10,'bold'))\n",
    "    classify_b.place(relx=0.79,rely=0.46)\n",
    "    \n",
    "def upload_image():\n",
    "    try:\n",
    "        file_path=filedialog.askopenfilename()\n",
    "        uploaded=Image.open(file_path)\n",
    "        uploaded.thumbnail(((top.winfo_width()/2.25),(top.winfo_height()/2.25)))\n",
    "        im=ImageTk.PhotoImage(uploaded)\n",
    "        \n",
    "        sign_image.configure(image=im)\n",
    "        sign_image.image=im\n",
    "        label.configure(text='')\n",
    "        show_classify_button(file_path)\n",
    "    except:\n",
    "        pass\n",
    "upload=Button(top,text='Upload an Image',command=upload_image,padx=10,pady=5)\n",
    "upload.configure(background='#364156',foreground='white',font=('arial',10,'bold'))\n",
    "\n",
    "upload.pack(side=BOTTOM,pady=50)\n",
    "sign_image.pack(side=BOTTOM,expand=True)\n",
    "label.pack(side=BOTTOM,expand=True)\n",
    "heading=Label(top,text='Know Your Traffic Sign',pady=20,font=('arial',20,'bold'))\n",
    "\n",
    "heading.configure(background='#CDCDCD',foreground='#364156')\n",
    "heading.pack()\n",
    "\n",
    "top.mainloop()"
   ]
  },
  {
   "cell_type": "code",
   "execution_count": null,
   "metadata": {},
   "outputs": [],
   "source": []
  },
  {
   "cell_type": "code",
   "execution_count": null,
   "metadata": {},
   "outputs": [],
   "source": []
  }
 ],
 "metadata": {
  "kernelspec": {
   "display_name": "Python 3",
   "language": "python",
   "name": "python3"
  },
  "language_info": {
   "codemirror_mode": {
    "name": "ipython",
    "version": 3
   },
   "file_extension": ".py",
   "mimetype": "text/x-python",
   "name": "python",
   "nbconvert_exporter": "python",
   "pygments_lexer": "ipython3",
   "version": "3.8.5"
  }
 },
 "nbformat": 4,
 "nbformat_minor": 4
}
